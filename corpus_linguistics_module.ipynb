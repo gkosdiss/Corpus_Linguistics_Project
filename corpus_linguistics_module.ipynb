{
 "cells": [
  {
   "cell_type": "markdown",
   "id": "b665f607-570c-4099-89d7-aa941ce7e44c",
   "metadata": {
    "tags": []
   },
   "source": [
    "  ## Corpus Linguistics with Python Project\n",
    "### SoSe 2024\n",
    "# Sotirios Gkosdis"
   ]
  },
  {
   "cell_type": "markdown",
   "id": "7cce4c6f-ec5d-427f-9858-04ac67612e80",
   "metadata": {},
   "source": [
    "For the final project I desided and downloaded the mythology book from the online open source library \"The Gutenberg Project\".\n"
   ]
  },
  {
   "cell_type": "markdown",
   "id": "95ac5941-ef3f-443d-9244-3c8d29bbde43",
   "metadata": {},
   "source": [
    "    We start by downloading the libraries we want to use as a first idea and more libraries will be imported according to the need that each step has.  Also we have created a directory with our files and stored them there. As datasets I downloaded as raw and used two books from \"The Gutenberg Project\" with more than enough tokens. The critirion for the selection of two relegious texts was because I thought that nobody else would use them as datasets. "
   ]
  },
  {
   "cell_type": "code",
   "execution_count": 62,
   "id": "5817f044-d693-4195-8cd3-e7c5ed303a1f",
   "metadata": {},
   "outputs": [
    {
     "name": "stderr",
     "output_type": "stream",
     "text": [
      "[nltk_data] Downloading package punkt to\n",
      "[nltk_data]     /Users/soteresnkosdes/nltk_data...\n",
      "[nltk_data]   Package punkt is already up-to-date!\n",
      "[nltk_data] Downloading package wordnet to\n",
      "[nltk_data]     /Users/soteresnkosdes/nltk_data...\n",
      "[nltk_data]   Package wordnet is already up-to-date!\n"
     ]
    },
    {
     "data": {
      "text/plain": [
       "True"
      ]
     },
     "execution_count": 62,
     "metadata": {},
     "output_type": "execute_result"
    }
   ],
   "source": [
    "#we import the libraries that are needed for the tasks\n",
    "import os\n",
    "import nltk\n",
    "from relegions import *\n",
    "nltk.download('punkt')\n",
    "nltk.download('wordnet')"
   ]
  },
  {
   "cell_type": "markdown",
   "id": "6af8ad79-3fef-411d-8c5e-a6eecf65a459",
   "metadata": {},
   "source": [
    "# 1. Corpora Statistics\n"
   ]
  },
  {
   "cell_type": "code",
   "execution_count": 2,
   "id": "76c5e93c-ffe4-4b20-9f58-d64ff87fc20a",
   "metadata": {},
   "outputs": [
    {
     "name": "stdout",
     "output_type": "stream",
     "text": [
      "We have  2  documents in our directory.\n"
     ]
    }
   ],
   "source": [
    "directory = 'relegions/' # give the directory of the files \n",
    "\n",
    "#explain that i need to count one for every document that ends with (.txt) in the directory for which we use the listdir funtion\n",
    "#and sum it.\n",
    "num_documents = sum(1 for doc in os.listdir(directory) if doc.endswith('.txt'))\n",
    "print(\"We have \", num_documents , \" documents in our directory.\") # We then print it.\n"
   ]
  },
  {
   "cell_type": "code",
   "execution_count": 5,
   "id": "35fc4ca0-2ffc-4287-a2d4-3b4a233d0397",
   "metadata": {
    "tags": []
   },
   "outputs": [
    {
     "name": "stdout",
     "output_type": "stream",
     "text": [
      "The orthodoxy file has  75001 tokens.\n",
      "The mythology file has  129810 tokens.\n",
      "Both files have  204811 tokens in total.\n"
     ]
    }
   ],
   "source": [
    "#first I create a function for the local files and then for global. \n",
    "txt_orthodoxy= \"relegions/orthodoxy.txt\" # create a variale with the text directory for orthodoxy text\n",
    "txt_mythology= \"relegions/mythology.txt\" # create a variale with the text directory for mythology text\n",
    "\n",
    "\n",
    "def tokenize_locally(file_path):\n",
    "    with open (file_path, \"r\", encoding=\"utf-8\") as file: #we open the file an read it\n",
    "        file_data = file.read() #we then create a variable to to use it later in order to tokenize our files\n",
    "        tokens = nltk.word_tokenize(file_data)\n",
    "        return tokens , file_data #we return both the tokens from the function and the data variable that we have  for later use\n",
    "\n",
    "    \n",
    "# Globally now    \n",
    "def tokenize_globally(directory): #our argument is the directory from above\n",
    "    global_data = \"\" # new variable as an empty string\n",
    "    for filename in os.listdir(directory):  # we now create a loop as from before and join the files together following \n",
    "        if filename.endswith('.txt'):       #the same steps\n",
    "            filepath = os.path.join(directory, filename)             \n",
    "            with open (filepath, \"r\", encoding=\"utf-8\") as both_files:\n",
    "                global_data += both_files.read() # we add the data to the empty string from before\n",
    "    global_tokens = nltk.word_tokenize(global_data) #tokenize the data and return them \n",
    "    return global_tokens, global_data\n",
    "    \n",
    "        \n",
    "# we create variables in which we apply the functions, to use them in printing as well for later.        \n",
    "orth_tokenizer, orth_data = tokenize_locally(txt_orthodoxy)\n",
    "myth_tokenizer, myth_data = tokenize_locally(txt_mythology)\n",
    "global_tokenizer, global_data = tokenize_globally(directory)\n",
    "#we print the lenght of the files \n",
    "print(\"The orthodoxy file has \", len(orth_tokenizer), \"tokens.\")\n",
    "print(\"The mythology file has \", len(myth_tokenizer), \"tokens.\")\n",
    "print(\"Both files have \", len(global_tokenizer), \"tokens in total.\")\n"
   ]
  },
  {
   "cell_type": "code",
   "execution_count": 6,
   "id": "5eeeb2f6-9161-45d8-a5bd-c853d31b654d",
   "metadata": {},
   "outputs": [
    {
     "name": "stdout",
     "output_type": "stream",
     "text": [
      "The mythology text has :  12213  lines\n",
      "The orthodoxy text has :  5882  lines\n",
      "The texts in a global level have:  18094  lines\n"
     ]
    }
   ],
   "source": [
    "#we create a function for line counting\n",
    "def line_counting(data): \n",
    "    lines= data.split(\"\\n\") #from the data we have we split the lines using the split method and the change line with \"\\n\"\n",
    "    return lines\n",
    "\n",
    "# we create new variables and apply the function we created\n",
    "lines_orth = line_counting(orth_data)\n",
    "lines_myth = line_counting(myth_data)\n",
    "lines_global = line_counting(global_data)\n",
    "\n",
    "#we print the results\n",
    "print(\"The mythology text has : \", len(lines_myth), \" lines\")\n",
    "print(\"The orthodoxy text has : \", len(lines_orth), \" lines\")\n",
    "print(\"The texts in a global level have: \", len(lines_global), \" lines\")"
   ]
  },
  {
   "cell_type": "markdown",
   "id": "79ac0d72-e446-46ae-9150-cfefee769549",
   "metadata": {},
   "source": [
    "# 2. Word Frequency"
   ]
  },
  {
   "cell_type": "markdown",
   "id": "05c05eae-0e22-40e8-83ca-01e6b6972fcf",
   "metadata": {},
   "source": [
    "for Word frequency I did a little datacleaning in order not to remove the punctuation and take into consideration not \n",
    "#the tokens but the words, as i understood from the explanation."
   ]
  },
  {
   "cell_type": "code",
   "execution_count": 109,
   "id": "529e2d2d-f10f-4b27-aa3f-cc060d7ec335",
   "metadata": {
    "tags": []
   },
   "outputs": [
    {
     "name": "stdout",
     "output_type": "stream",
     "text": [
      "[('the', 4176), ('of', 2345), ('a', 1735), ('is', 1666), ('to', 1591), ('and', 1540), ('that', 1381), ('it', 1302), ('in', 1228), ('i', 794), ('not', 724), ('but', 649), ('be', 619), ('as', 600), ('for', 570), ('he', 568), ('was', 505), ('this', 483), ('or', 437), ('we', 428), ('if', 425), ('all', 420), ('are', 396), ('have', 367), ('with', 365), ('man', 364), ('they', 347), ('one', 344), ('you', 343), ('an', 303)]\n"
     ]
    },
    {
     "data": {
      "image/png": "[encoded data removed]",
      "text/plain": [
       "<Figure size 640x480 with 1 Axes>"
      ]
     },
     "metadata": {},
     "output_type": "display_data"
    },
    {
     "name": "stdout",
     "output_type": "stream",
     "text": [
      "\t\n",
      "\t\n",
      "\t\n",
      "[('the', 8758), ('of', 5273), ('and', 3956), ('to', 3229), ('in', 2094), ('his', 1935), ('a', 1859), ('was', 1611), ('he', 1191), ('with', 1103), ('her', 1091), ('which', 1008), ('by', 964), ('that', 831), ('as', 774), ('him', 748), ('their', 704), ('at', 682), ('were', 680), ('for', 672), ('on', 660), ('who', 575), ('had', 552), ('this', 526), ('she', 514), ('but', 494), ('they', 487), ('from', 481), ('it', 437), ('all', 408)]\n"
     ]
    },
    {
     "data": {
      "image/png": "[encoded data removed]",
      "text/plain": [
       "<Figure size 640x480 with 1 Axes>"
      ]
     },
     "metadata": {},
     "output_type": "display_data"
    },
    {
     "name": "stdout",
     "output_type": "stream",
     "text": [
      "\t\n",
      "\t\n",
      "\t\n",
      "[('the', 12934), ('of', 7618), ('and', 5496), ('to', 4820), ('a', 3594), ('in', 3322), ('that', 2212), ('his', 2202), ('was', 2116), ('is', 2061), ('he', 1759), ('it', 1739), ('with', 1468), ('as', 1374), ('which', 1256), ('by', 1247), ('for', 1242), ('but', 1143), ('her', 1123), ('this', 1009), ('at', 954), ('not', 952), ('be', 942), ('on', 895), ('were', 865), ('him', 848), ('their', 844), ('they', 834), ('all', 828), ('i', 811)]\n"
     ]
    },
    {
     "data": {
      "image/png": "[encoded data removed]",
      "text/plain": [
       "<Figure size 640x480 with 1 Axes>"
      ]
     },
     "metadata": {},
     "output_type": "display_data"
    },
    {
     "name": "stdout",
     "output_type": "stream",
     "text": [
      "\t\n",
      "\t\n",
      "\t\n"
     ]
    }
   ],
   "source": [
    "#import the freqDist for frequence purposes adn re library for the data-cleaning\n",
    "from nltk.probability import FreqDist\n",
    "import re\n",
    "\n",
    "#we create a function for the text data in order to remove puctuation\n",
    "def preprocessing(txt_data):\n",
    "    txt_data = re.sub(r'[^\\w\\s]', '', txt_data) #with this regex we remove the punctuation while keeping words and spaces\n",
    "    return txt_data\n",
    "#we create a frequency function\n",
    "def frequency(txt_data, title):\n",
    "    txt_data = preprocessing(txt_data) # we apply the data-cleaning for the data from before\n",
    "    txt_data =txt_data.lower().split() # before spliting we apply the .lower() in order to match everything and avaid mistakes\n",
    "    freq = FreqDist(txt_data) # we apply the FreqDist from the library \n",
    "    print(freq.most_common(30)) # print the results \n",
    "    freq.plot(30,title=title) #use a simple plot to make it more visual\n",
    "    print(\"\\t\")\n",
    "    print(\"\\t\")\n",
    "    print(\"\\t\")\n",
    "    return frequency\n",
    "\n",
    "# we print the plots and create their titles \n",
    "fdist_orth = frequency(orth_data, \"Orthodoxy txt\")\n",
    "fdist_myth = frequency(myth_data, \"Mythology txt\")\n",
    "fdist_glob = frequency(global_data, \"Both files\")\n",
    "#because it looks terrible I have there are some plots in the next cells that are looking better visually. I tried to do a \n",
    "#wordcloud but it is still not working in my computer."
   ]
  },
  {
   "cell_type": "markdown",
   "id": "d364f020-2ee1-4c11-bc98-3dc4f7b6a2ff",
   "metadata": {},
   "source": [
    "# 3.Type-Token-Ratio"
   ]
  },
  {
   "cell_type": "code",
   "execution_count": 75,
   "id": "abd7444a-dd5b-4da2-b069-84f6030e34c2",
   "metadata": {},
   "outputs": [
    {
     "name": "stdout",
     "output_type": "stream",
     "text": [
      "The mythology token ratio is:  10.879148508213207\n",
      "The orthodoxy token ratio is:  9.768299036207345\n",
      "The global token ratio is:  13.022890570356711\n"
     ]
    }
   ],
   "source": [
    "#we create a function for the type-token-ratio\n",
    "def type_token_ratio(tokens):\n",
    "    types = set(tokens) # as instacted we set the tokens into sets and then we return the asked devision\n",
    "    return len(tokens)/ len(types)\n",
    "\n",
    "#we apply the function and prin the results\n",
    "myth_ratio = type_token_ratio(myth_tokenizer)\n",
    "print(\"The mythology token ratio is: \", myth_ratio)\n",
    "\n",
    "orth_ratio = type_token_ratio(orth_tokenizer)\n",
    "print(\"The orthodoxy token ratio is: \", orth_ratio)\n",
    "\n",
    "\n",
    "global_ratio = type_token_ratio(global_tokenizer)\n",
    "print(\"The global token ratio is: \", global_ratio)\n"
   ]
  },
  {
   "cell_type": "code",
   "execution_count": 114,
   "id": "36b51c60-d307-49cb-9233-64587b6e4356",
   "metadata": {},
   "outputs": [
    {
     "data": {
      "image/png": "[encoded data removed]",
      "text/plain": [
       "<Figure size 640x480 with 1 Axes>"
      ]
     },
     "metadata": {},
     "output_type": "display_data"
    }
   ],
   "source": [
    "#we import matplotilib.pyplot for the ploting here\n",
    "import matplotlib.pyplot as plt\n",
    "# we set two lists one of the ratios and an other one with the names of the texts\n",
    "ratios = [myth_ratio, orth_ratio, global_ratio]\n",
    "labels = ['Mythology txt', 'Orthodoxy txt', 'Global']\n",
    "\n",
    "# we plot the labels and the ratios while explaining the way we want our plot to be and then we print it \n",
    "plt.plot(labels, ratios, color='red', marker='o', linestyle='-')\n",
    "plt.xlabel('Corpora')\n",
    "plt.ylabel('Type-Token Ratio')\n",
    "plt.title('Type-Token Ratios for different corpora')\n",
    "plt.show()"
   ]
  },
  {
   "cell_type": "markdown",
   "id": "b6ffe4c4-40a2-4ff0-83e1-3ba64b11df58",
   "metadata": {},
   "source": [
    "# 4. N-gram Analysis"
   ]
  },
  {
   "cell_type": "code",
   "execution_count": 154,
   "id": "a122b024-ecaf-425a-93e9-f69f3d07ed02",
   "metadata": {},
   "outputs": [],
   "source": [
    "# we import the ngrams function \n",
    "from nltk.util import ngrams\n",
    "# we create three functions. One for each dataset the arguments are the same the text and the number of wordsto apply\n",
    "def orth_ngrams(text, n): \n",
    "#create a new variable ich which we apply the ngram function to the tokens and transform it to a list\n",
    "    words_orth = list(ngrams(orth_tokenizer, n)) \n",
    "    for word in words_orth[:20]: # a for loop in order to print the results.\n",
    "        print(word) # print the results \n",
    "    return (orth_ngrams) # we returnt he outcome\n",
    "\n",
    "# the same exact principle is followed for the other functions for the other datasets\n",
    "# i print the first 20 words/ word-ngrams in order to proov that the code is working so its only for viewing purposes.\n",
    "def myth_ngrams(text, n): \n",
    "    words_myth = list(ngrams(myth_tokenizer, n))\n",
    "    for word in words_myth[:20]:\n",
    "        print(word)\n",
    "    return (myth_ngrams)\n",
    "\n",
    "def global_ngrams(text, n): \n",
    "    words_global = list(ngrams(global_tokenizer, n))\n",
    "    for word in words_global[:20]:\n",
    "        print(word)\n",
    "    return (global_ngrams)\n"
   ]
  },
  {
   "cell_type": "markdown",
   "id": "12ef0399-4f92-44d3-b81d-98ca3fac44e3",
   "metadata": {},
   "source": [
    "## Unigrams"
   ]
  },
  {
   "cell_type": "code",
   "execution_count": 155,
   "id": "41b30c76-9fde-402f-9995-ab20f4cafae8",
   "metadata": {
    "tags": []
   },
   "outputs": [
    {
     "name": "stdout",
     "output_type": "stream",
     "text": [
      "The unigrams for the orthodoxy text:\n",
      "('\\ufeffThe',)\n",
      "('Project',)\n",
      "('Gutenberg',)\n",
      "('eBook',)\n",
      "('of',)\n",
      "('Orthodoxy',)\n",
      "('This',)\n",
      "('ebook',)\n",
      "('is',)\n",
      "('for',)\n",
      "('the',)\n",
      "('use',)\n",
      "('of',)\n",
      "('anyone',)\n",
      "('anywhere',)\n",
      "('in',)\n",
      "('the',)\n",
      "('United',)\n",
      "('States',)\n",
      "('and',)\n",
      "<function orth_ngrams at 0x1164a40d0>\n",
      "\t\n",
      "The unigrams for the mythology text:\n",
      "('\\ufeffThe',)\n",
      "('Project',)\n",
      "('Gutenberg',)\n",
      "('eBook',)\n",
      "('of',)\n",
      "('Myths',)\n",
      "('and',)\n",
      "('Legends',)\n",
      "('of',)\n",
      "('Ancient',)\n",
      "('Greece',)\n",
      "('and',)\n",
      "('Rome',)\n",
      "('This',)\n",
      "('ebook',)\n",
      "('is',)\n",
      "('for',)\n",
      "('the',)\n",
      "('use',)\n",
      "('of',)\n",
      "<function myth_ngrams at 0x1164a4670>\n",
      "\t\n",
      "The unigrams globally:\n",
      "('\\ufeffThe',)\n",
      "('Project',)\n",
      "('Gutenberg',)\n",
      "('eBook',)\n",
      "('of',)\n",
      "('Orthodoxy',)\n",
      "('This',)\n",
      "('ebook',)\n",
      "('is',)\n",
      "('for',)\n",
      "('the',)\n",
      "('use',)\n",
      "('of',)\n",
      "('anyone',)\n",
      "('anywhere',)\n",
      "('in',)\n",
      "('the',)\n",
      "('United',)\n",
      "('States',)\n",
      "('and',)\n",
      "<function global_ngrams at 0x1164a4c10>\n"
     ]
    }
   ],
   "source": [
    "#for unigrams we declare that n is one\n",
    "n = 1\n",
    "#and print\n",
    "print(\"The unigrams for the orthodoxy text:\")\n",
    "print(orth_ngrams(orth_data, n))\n",
    "print(\"\\t\")\n",
    "print(\"The unigrams for the mythology text:\")\n",
    "print(myth_ngrams(myth_data, n))\n",
    "print(\"\\t\")\n",
    "print(\"The unigrams globally:\")\n",
    "print(global_ngrams(myth_data, n))\n"
   ]
  },
  {
   "cell_type": "markdown",
   "id": "ce5f7c5b-a1b4-4fdf-9de0-8f2047fec343",
   "metadata": {},
   "source": [
    "## Bigrams"
   ]
  },
  {
   "cell_type": "code",
   "execution_count": 156,
   "id": "a9cb96de-42c4-4a97-9422-fdb3d96b33bf",
   "metadata": {
    "tags": []
   },
   "outputs": [
    {
     "name": "stdout",
     "output_type": "stream",
     "text": [
      "The bigrams for the orthodoxy text:\n",
      "('\\ufeffThe', 'Project')\n",
      "('Project', 'Gutenberg')\n",
      "('Gutenberg', 'eBook')\n",
      "('eBook', 'of')\n",
      "('of', 'Orthodoxy')\n",
      "('Orthodoxy', 'This')\n",
      "('This', 'ebook')\n",
      "('ebook', 'is')\n",
      "('is', 'for')\n",
      "('for', 'the')\n",
      "('the', 'use')\n",
      "('use', 'of')\n",
      "('of', 'anyone')\n",
      "('anyone', 'anywhere')\n",
      "('anywhere', 'in')\n",
      "('in', 'the')\n",
      "('the', 'United')\n",
      "('United', 'States')\n",
      "('States', 'and')\n",
      "('and', 'most')\n",
      "<function orth_ngrams at 0x1164a40d0>\n",
      "\t\n",
      "The bigrams for the mythology text:\n",
      "('\\ufeffThe', 'Project')\n",
      "('Project', 'Gutenberg')\n",
      "('Gutenberg', 'eBook')\n",
      "('eBook', 'of')\n",
      "('of', 'Myths')\n",
      "('Myths', 'and')\n",
      "('and', 'Legends')\n",
      "('Legends', 'of')\n",
      "('of', 'Ancient')\n",
      "('Ancient', 'Greece')\n",
      "('Greece', 'and')\n",
      "('and', 'Rome')\n",
      "('Rome', 'This')\n",
      "('This', 'ebook')\n",
      "('ebook', 'is')\n",
      "('is', 'for')\n",
      "('for', 'the')\n",
      "('the', 'use')\n",
      "('use', 'of')\n",
      "('of', 'anyone')\n",
      "<function myth_ngrams at 0x1164a4670>\n",
      "\t\n",
      "The bigrams globally:\n",
      "('\\ufeffThe', 'Project')\n",
      "('Project', 'Gutenberg')\n",
      "('Gutenberg', 'eBook')\n",
      "('eBook', 'of')\n",
      "('of', 'Orthodoxy')\n",
      "('Orthodoxy', 'This')\n",
      "('This', 'ebook')\n",
      "('ebook', 'is')\n",
      "('is', 'for')\n",
      "('for', 'the')\n",
      "('the', 'use')\n",
      "('use', 'of')\n",
      "('of', 'anyone')\n",
      "('anyone', 'anywhere')\n",
      "('anywhere', 'in')\n",
      "('in', 'the')\n",
      "('the', 'United')\n",
      "('United', 'States')\n",
      "('States', 'and')\n",
      "('and', 'most')\n",
      "<function global_ngrams at 0x1164a4c10>\n"
     ]
    }
   ],
   "source": [
    "#for bigrams we diclare that n is 2 \n",
    "n = 2\n",
    "\n",
    "#and print\n",
    "print(\"The bigrams for the orthodoxy text:\")\n",
    "print(orth_ngrams(orth_data, n))\n",
    "print(\"\\t\")\n",
    "print(\"The bigrams for the mythology text:\")\n",
    "print(myth_ngrams(myth_data, n))\n",
    "print(\"\\t\")\n",
    "print(\"The bigrams globally:\")\n",
    "print(global_ngrams(myth_data, n))"
   ]
  },
  {
   "cell_type": "markdown",
   "id": "310eead8-95e8-4d55-9486-8e44d7212d16",
   "metadata": {},
   "source": [
    "## Trigrams"
   ]
  },
  {
   "cell_type": "code",
   "execution_count": 153,
   "id": "9c16716d-93f7-43be-9ac7-cfc9e9605d39",
   "metadata": {
    "tags": []
   },
   "outputs": [
    {
     "name": "stdout",
     "output_type": "stream",
     "text": [
      "The trigrams for the orthodoxy text:\n",
      "('\\ufeffThe', 'Project', 'Gutenberg')\n",
      "('Project', 'Gutenberg', 'eBook')\n",
      "('Gutenberg', 'eBook', 'of')\n",
      "('eBook', 'of', 'Orthodoxy')\n",
      "('of', 'Orthodoxy', 'This')\n",
      "('Orthodoxy', 'This', 'ebook')\n",
      "('This', 'ebook', 'is')\n",
      "('ebook', 'is', 'for')\n",
      "('is', 'for', 'the')\n",
      "('for', 'the', 'use')\n",
      "('the', 'use', 'of')\n",
      "('use', 'of', 'anyone')\n",
      "('of', 'anyone', 'anywhere')\n",
      "('anyone', 'anywhere', 'in')\n",
      "('anywhere', 'in', 'the')\n",
      "('in', 'the', 'United')\n",
      "('the', 'United', 'States')\n",
      "('United', 'States', 'and')\n",
      "('States', 'and', 'most')\n",
      "('and', 'most', 'other')\n",
      "<function orth_ngrams at 0x1164a4670>\n",
      "\t\n",
      "The trigrams for the mythology text:\n",
      "('\\ufeffThe', 'Project', 'Gutenberg')\n",
      "('Project', 'Gutenberg', 'eBook')\n",
      "('Gutenberg', 'eBook', 'of')\n",
      "('eBook', 'of', 'Myths')\n",
      "('of', 'Myths', 'and')\n",
      "('Myths', 'and', 'Legends')\n",
      "('and', 'Legends', 'of')\n",
      "('Legends', 'of', 'Ancient')\n",
      "('of', 'Ancient', 'Greece')\n",
      "('Ancient', 'Greece', 'and')\n",
      "('Greece', 'and', 'Rome')\n",
      "('and', 'Rome', 'This')\n",
      "('Rome', 'This', 'ebook')\n",
      "('This', 'ebook', 'is')\n",
      "('ebook', 'is', 'for')\n",
      "('is', 'for', 'the')\n",
      "('for', 'the', 'use')\n",
      "('the', 'use', 'of')\n",
      "('use', 'of', 'anyone')\n",
      "('of', 'anyone', 'anywhere')\n",
      "<function myth_ngrams at 0x1164a4c10>\n",
      "\t\n",
      "The trigrams globally:\n",
      "('\\ufeffThe', 'Project', 'Gutenberg')\n",
      "('Project', 'Gutenberg', 'eBook')\n",
      "('Gutenberg', 'eBook', 'of')\n",
      "('eBook', 'of', 'Orthodoxy')\n",
      "('of', 'Orthodoxy', 'This')\n",
      "('Orthodoxy', 'This', 'ebook')\n",
      "('This', 'ebook', 'is')\n",
      "('ebook', 'is', 'for')\n",
      "('is', 'for', 'the')\n",
      "('for', 'the', 'use')\n",
      "('the', 'use', 'of')\n",
      "('use', 'of', 'anyone')\n",
      "('of', 'anyone', 'anywhere')\n",
      "('anyone', 'anywhere', 'in')\n",
      "('anywhere', 'in', 'the')\n",
      "('in', 'the', 'United')\n",
      "('the', 'United', 'States')\n",
      "('United', 'States', 'and')\n",
      "('States', 'and', 'most')\n",
      "('and', 'most', 'other')\n",
      "<function global_ngrams at 0x1164a4d30>\n"
     ]
    }
   ],
   "source": [
    "#for trigrams we declare that n is 3 \n",
    "n = 3\n",
    "\n",
    "#we print\n",
    "print(\"The trigrams for the orthodoxy text:\")\n",
    "print(orth_ngrams(orth_data, n))\n",
    "print(\"\\t\")\n",
    "print(\"The trigrams for the mythology text:\")\n",
    "print(myth_ngrams(myth_data, n))\n",
    "print(\"\\t\")\n",
    "print(\"The trigrams globally:\")\n",
    "print(global_ngrams(myth_data, n))"
   ]
  },
  {
   "cell_type": "markdown",
   "id": "598b9321-59b3-4a07-b207-6cd7e32e17bc",
   "metadata": {
    "tags": []
   },
   "source": [
    "# 5.Concordance"
   ]
  },
  {
   "cell_type": "code",
   "execution_count": 104,
   "id": "9891648f-afbc-4ea6-a7ec-e9cb7e3e5aa1",
   "metadata": {
    "tags": []
   },
   "outputs": [
    {
     "name": "stdout",
     "output_type": "stream",
     "text": [
      "Please enter your word here:  greek\n"
     ]
    },
    {
     "name": "stdout",
     "output_type": "stream",
     "text": [
      "Orthodoxy.txt:\n",
      "Displaying 5 of 5 matches:\n",
      "unconsciously assuming a standard of Greek sculpture . They are appealing to th\n",
      "olution which seeks to destroy the [ Greek : meson ] or balance of Aristotle . \n",
      "ever . But the great truism of the [ Greek : meson ] remains for all thinking m\n",
      "not a beast , but a broken god . The Greek had spoken of men creeping on the ea\n",
      "u merely bear it , you do not grin . Greek heroes do not grin ; but gargoyles d\n",
      "\t\n",
      "Mythology.txt:\n",
      "Displaying 25 of 94 matches:\n",
      "* The want of an interesting work on Greek and Roman mythology , suitable for t\n",
      "rk , a picture , as it were , of old Greek life ; its customs , its superstitio\n",
      " { vi } AUGURS , 196 FESTIVALS , 196 GREEK FESTIVALS -- ELEUSINIAN MYSTERIES , \n",
      "habitants , which , according to the Greek custom of paying reverence to all go\n",
      "ally bore the impress of its ancient Greek source . As the primitive Celts , ho\n",
      " with the vivid imagination of their Greek neighbours , leaves its mark on the \n",
      "s dominions , his career as a ruling Greek divinity entirely ceases . But being\n",
      "ying their deities with those of the Greek gods whose attributes were similar t\n",
      "frightful manner . OPS . In Rome the Greek Rhea was identified with Ops , the g\n",
      "an . The first natural belief of the Greek people was that man had sprung from \n",
      "Hesiod , [ 8 ] the oldest of all the Greek poets , was that the Titan Prometheu\n",
      "is so frequently confounded with the Greek Zeus , is identical with him only as\n",
      "n which respect he differed from the Greek Zeus , who was to a certain extent c\n",
      "ed always watched over and protected Greek interests , her beloved and favourit\n",
      "ty supposed to be identical with the Greek Hera , differed from her in the most\n",
      " and Armed Resistance , was a purely Greek divinity ; that is to say , no other\n",
      "Ananke . Themis , like so many other Greek divinities , takes the place of a mo\n",
      " a connecting link between the young Greek colony and the mother country . Hest\n",
      "ES . The Roman Ceres is actually the Greek Demeter under another name , her att\n",
      "orship having been introduced by the Greek colonists who settled there . The Ce\n",
      "eat Trojan hero and the head of that Greek colony which settled in Italy , and \n",
      "conception within the whole range of Greek mythology , and his worship , which \n",
      " but also to Asia Minor and to every Greek colony throughout the world , stands\n",
      "ed a more decided influence over the Greek nation , than that of any other deit\n",
      "usic in his worship exercised on the Greek nation , that Apollo came to be rega\n",
      "\t\n",
      "For both texts globally:\n",
      "Displaying 25 of 99 matches:\n",
      "unconsciously assuming a standard of Greek sculpture . They are appealing to th\n",
      "olution which seeks to destroy the [ Greek : meson ] or balance of Aristotle . \n",
      "ever . But the great truism of the [ Greek : meson ] remains for all thinking m\n",
      "not a beast , but a broken god . The Greek had spoken of men creeping on the ea\n",
      "u merely bear it , you do not grin . Greek heroes do not grin ; but gargoyles d\n",
      "* The want of an interesting work on Greek and Roman mythology , suitable for t\n",
      "rk , a picture , as it were , of old Greek life ; its customs , its superstitio\n",
      " { vi } AUGURS , 196 FESTIVALS , 196 GREEK FESTIVALS -- ELEUSINIAN MYSTERIES , \n",
      "habitants , which , according to the Greek custom of paying reverence to all go\n",
      "ally bore the impress of its ancient Greek source . As the primitive Celts , ho\n",
      " with the vivid imagination of their Greek neighbours , leaves its mark on the \n",
      "s dominions , his career as a ruling Greek divinity entirely ceases . But being\n",
      "ying their deities with those of the Greek gods whose attributes were similar t\n",
      "frightful manner . OPS . In Rome the Greek Rhea was identified with Ops , the g\n",
      "an . The first natural belief of the Greek people was that man had sprung from \n",
      "Hesiod , [ 8 ] the oldest of all the Greek poets , was that the Titan Prometheu\n",
      "is so frequently confounded with the Greek Zeus , is identical with him only as\n",
      "n which respect he differed from the Greek Zeus , who was to a certain extent c\n",
      "ed always watched over and protected Greek interests , her beloved and favourit\n",
      "ty supposed to be identical with the Greek Hera , differed from her in the most\n",
      " and Armed Resistance , was a purely Greek divinity ; that is to say , no other\n",
      "Ananke . Themis , like so many other Greek divinities , takes the place of a mo\n",
      " a connecting link between the young Greek colony and the mother country . Hest\n",
      "ES . The Roman Ceres is actually the Greek Demeter under another name , her att\n",
      "orship having been introduced by the Greek colonists who settled there . The Ce\n"
     ]
    },
    {
     "data": {
      "text/plain": [
       "<function __main__.concordance(tokens, user_input)>"
      ]
     },
     "execution_count": 104,
     "metadata": {},
     "output_type": "execute_result"
    }
   ],
   "source": [
    "#we imported the Text function from the ntlk library\n",
    "from nltk.text import Text\n",
    "\n",
    "#we create a function that takes as arguments the tokens and the user input\n",
    "def concordance(tokens, user_input):\n",
    "    texted = Text(tokens)    #new variable that applies the text function to the tokens \n",
    "    texted.concordance(user_input) # then we apply the concordance function from the Text that we imported to the user input\n",
    "    return concordance\n",
    "\n",
    "# we ask for the user to give his input\n",
    "## for the purposes of checking i used the word \"greek\" because it exists in both texts\n",
    "user_input  = input(\"Please enter your word here: \")\n",
    "\n",
    "# we print and apply our function \n",
    "print(\"Orthodoxy.txt:\")\n",
    "concordance(orth_tokenizer, user_input)\n",
    "print(\"\\t\")\n",
    "print(\"Mythology.txt:\")\n",
    "concordance(myth_tokenizer, user_input)\n",
    "print(\"\\t\")\n",
    "print(\"For both texts globally:\")\n",
    "concordance(global_tokenizer, user_input)\n"
   ]
  },
  {
   "cell_type": "markdown",
   "id": "cefaf8ab-8bce-4892-9c9d-b3512765055b",
   "metadata": {},
   "source": [
    "# 6. Collocations/ Multiword Expressions"
   ]
  },
  {
   "cell_type": "code",
   "execution_count": 107,
   "id": "844a8507-0ca4-4cf2-a04a-acbaef0a7b59",
   "metadata": {
    "collapsed": true,
    "jupyter": {
     "outputs_hidden": true
    },
    "tags": []
   },
   "outputs": [
    {
     "name": "stdout",
     "output_type": "stream",
     "text": [
      "Orthodoxy.txt:\n",
      "Project Gutenberg™; Project Gutenberg; United States; Literary\n",
      "Archive; Gutenberg™ electronic; electronic works; Gutenberg Literary;\n",
      "Archive Foundation; fairy tales; _Reprinted_\n",
      "...................................; set forth; Inner Light; one\n",
      "thing; nineteenth century; Bernard Shaw; electronic work; modern\n",
      "world; Gutenberg™ License; fairy tale; Thou shalt\n",
      "<function collocations at 0x11368de50>\n",
      "\t\n",
      "Mythology.txt:\n",
      "Project Gutenberg™; lower world; Project Gutenberg; later times; took\n",
      "place; United States; set sail; Literary Archive; Gutenberg™\n",
      "electronic; electronic works; Gutenberg Literary; Archive Foundation;\n",
      "Golden Fleece; one day; old man; presiding deity; single combat;\n",
      "homeward voyage; one occasion; usually represented\n",
      "<function collocations at 0x11368de50>\n",
      "\t\n",
      "For both texts globally:\n",
      "Project Gutenberg™; Project Gutenberg; United States; Literary\n",
      "Archive; Gutenberg™ electronic; electronic works; Gutenberg Literary;\n",
      "lower world; Archive Foundation; later times; took place; set sail;\n",
      "electronic work; set forth; Gutenberg™ License; Golden Fleece; fairy\n",
      "tales; _Reprinted_ ...................................; one thing;\n",
      "presiding deity\n",
      "<function collocations at 0x11368de50>\n"
     ]
    }
   ],
   "source": [
    "# we dont need ti import anything since its imported from before \n",
    "# we follow the same steps creating a function in which we take only the tokens as argument\n",
    "def collocations(tokens):\n",
    "    texted = Text(tokens) #again the same type of variable created\n",
    "    texted.collocations() # we apply the collocations method\n",
    "    return collocations\n",
    "\n",
    "# we print and we exucute the function the same way as before\n",
    "print(\"Orthodoxy.txt:\")\n",
    "print(collocations(orth_tokenizer))\n",
    "print(\"\\t\")\n",
    "print(\"Mythology.txt:\")\n",
    "print(collocations(myth_tokenizer))\n",
    "print(\"\\t\")\n",
    "print(\"For both texts globally:\")\n",
    "print(collocations(global_tokenizer))"
   ]
  },
  {
   "cell_type": "markdown",
   "id": "ad42e512-70c6-4904-ba92-481157ab46a5",
   "metadata": {},
   "source": [
    "# 7. Unique-Words"
   ]
  },
  {
   "cell_type": "code",
   "execution_count": 158,
   "id": "829d8c3f-9d67-4b7a-a9a4-b7d88b6fa495",
   "metadata": {
    "tags": []
   },
   "outputs": [
    {
     "name": "stdout",
     "output_type": "stream",
     "text": [
      "The unique words that both texts have globally, are :  14420\n",
      "The unique words that both texts combined have, are :  18088\n"
     ]
    }
   ],
   "source": [
    "#we create a function that stores unique words \n",
    "def unique_words(txt_data, new_file): #the arguments that we have are the data and the file that we are going to create in here\n",
    "    txt_data = preprocessing(txt_data) # we redo the steps for the preprocessing \n",
    "    words =txt_data.lower().split() # and again the lower and spliting \n",
    "    unique_words = set(words) # we create a new variable to store the set of the data from before.\n",
    "    \n",
    "    with open (new_file, 'w', encoding='utf-8') as f: # now for turning the results to output filea we use the 'write' method\n",
    "        for word in sorted(unique_words): # we create a for loop for sorting the words alphabetically\n",
    "            f.write(word+ \" \") # and now we export them to the new files while seperating them with a space\n",
    "    \n",
    "    return unique_words # we return the results\n",
    "\n",
    "# we set ne varables to exucute the function and name the output files properly as well as to use them later\n",
    "unique_orth = unique_words(orth_data, 'unique_orthodoxy.txt')\n",
    "unique_myth = unique_words(myth_data, 'unique_mythology.txt')\n",
    "unique_both = unique_words(global_data, 'unique_both.txt')\n",
    "\n",
    "#the unique words count is big and difficult to compare and check the results to see if the code worked properly.\n",
    "#so my idea was to see if the output files look as expected and then see the number of the unique words each corpus contains\n",
    "#then i add them both and check if the concatonation of those two local files is bigger than the global it means that\n",
    "#according to logic and probabilities the code has worked, because it's possible same words to exist and be unique in both texts \n",
    "#but then when checked globally the are counted as not unique. This is also done in order to be visuable here in the notebook.\n",
    "\n",
    "len_both = len(unique_both)\n",
    "\n",
    "len_orth = len(unique_orth)\n",
    "\n",
    "len_myth = len(unique_myth)\n",
    "\n",
    "# we print the results in order to compare them \n",
    "print('The unique words that both texts have globally, are : ',len_both)\n",
    "print('The unique words that both texts combined have, are : ',len_myth + len_orth)\n",
    "\n",
    "\n",
    "\n"
   ]
  },
  {
   "cell_type": "code",
   "execution_count": null,
   "id": "12f82064-18d8-4774-8f57-46b79c8c429c",
   "metadata": {},
   "outputs": [],
   "source": []
  }
 ],
 "metadata": {
  "kernelspec": {
   "display_name": "Python 3 (ipykernel)",
   "language": "python",
   "name": "python3"
  },
  "language_info": {
   "codemirror_mode": {
    "name": "ipython",
    "version": 3
   },
   "file_extension": ".py",
   "mimetype": "text/x-python",
   "name": "python",
   "nbconvert_exporter": "python",
   "pygments_lexer": "ipython3",
   "version": "3.9.19"
  }
 },
 "nbformat": 4,
 "nbformat_minor": 5
}
